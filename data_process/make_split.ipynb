{
 "cells": [
  {
   "cell_type": "code",
   "execution_count": 1,
   "metadata": {},
   "outputs": [],
   "source": [
    "import os\n",
    "import shutil\n",
    "import glob\n",
    "from sklearn.model_selection import train_test_split"
   ]
  },
  {
   "cell_type": "code",
   "execution_count": 33,
   "metadata": {},
   "outputs": [
    {
     "name": "stdout",
     "output_type": "stream",
     "text": [
      "1146 1146\n"
     ]
    }
   ],
   "source": [
    "DATASET_PATH_NEW = 'dsb_data_with_new_background'\n",
    "\n",
    "image_paths = glob.glob(os.path.join(DATASET_PATH_NEW, 'images', 'all', '*.jpg'))\n",
    "label_paths = glob.glob(os.path.join(DATASET_PATH_NEW, 'labels', 'all', '*.txt'))\n",
    "\n",
    "image_paths = list(sorted(image_paths))\n",
    "label_paths = list(sorted(label_paths))\n",
    "\n",
    "print(len(image_paths), len(label_paths))"
   ]
  },
  {
   "cell_type": "code",
   "execution_count": 32,
   "metadata": {},
   "outputs": [
    {
     "name": "stdout",
     "output_type": "stream",
     "text": [
      "1000 1000\n"
     ]
    }
   ],
   "source": [
    "DATASET_PATH_OLD = 'dsb_data_with_new'\n",
    "\n",
    "image_paths = list()\n",
    "label_paths = list()\n",
    "\n",
    "for path in ['test', 'train', 'valid']:\n",
    "    image_paths += glob.glob(os.path.join(DATASET_PATH_OLD, 'images', path, '*.jpg'))\n",
    "    label_paths += glob.glob(os.path.join(DATASET_PATH_OLD, 'labels', path, '*.txt'))\n",
    "    \n",
    "image_paths = list(sorted(image_paths))\n",
    "label_paths = list(sorted(label_paths))\n",
    "\n",
    "print(len(image_paths), len(label_paths))"
   ]
  },
  {
   "cell_type": "code",
   "execution_count": 26,
   "metadata": {},
   "outputs": [],
   "source": [
    "os.makedirs(os.path.join(DATASET_PATH_NEW, 'images', 'all'), exist_ok=True)\n",
    "os.makedirs(os.path.join(DATASET_PATH_NEW, 'labels', 'all'), exist_ok=True)\n",
    "\n",
    "for image_path, label_path in zip(image_paths, label_paths):\n",
    "    image_file_name = image_path.split(os.sep)[-1]\n",
    "    label_file_name = label_path.split(os.sep)[-1]\n",
    "    \n",
    "    shutil.copy(image_path, os.path.join(DATASET_PATH_NEW, 'images', 'all', image_file_name))\n",
    "    shutil.copy(label_path, os.path.join(DATASET_PATH_NEW, 'labels', 'all', label_file_name))"
   ]
  },
  {
   "cell_type": "code",
   "execution_count": 31,
   "metadata": {},
   "outputs": [
    {
     "name": "stdout",
     "output_type": "stream",
     "text": [
      "146 146\n"
     ]
    }
   ],
   "source": [
    "DATASET_PATH_BACKGROUND = os.path.join('..', 'yolo_background')\n",
    "\n",
    "image_paths = glob.glob(os.path.join(DATASET_PATH_BACKGROUND, 'images', 'train', '*.jpg'))\n",
    "label_paths = glob.glob(os.path.join(DATASET_PATH_BACKGROUND, 'labels', 'train', '*.txt'))\n",
    "\n",
    "image_paths = list(sorted(image_paths))\n",
    "label_paths = list(sorted(label_paths))\n",
    "\n",
    "print(len(image_paths), len(label_paths))\n",
    "\n",
    "for image_path, label_path in zip(image_paths, label_paths):\n",
    "    image_file_name = image_path.split(os.sep)[-1]\n",
    "    label_file_name = label_path.split(os.sep)[-1]\n",
    "    \n",
    "    shutil.copy(image_path, os.path.join(DATASET_PATH_NEW, 'images', 'all', image_file_name))\n",
    "    shutil.copy(label_path, os.path.join(DATASET_PATH_NEW, 'labels', 'all', label_file_name))"
   ]
  },
  {
   "cell_type": "code",
   "execution_count": 36,
   "metadata": {},
   "outputs": [
    {
     "name": "stdout",
     "output_type": "stream",
     "text": [
      "802 802\n",
      "172 172\n",
      "172 172\n"
     ]
    }
   ],
   "source": [
    "image_paths = glob.glob(os.path.join(DATASET_PATH_NEW, 'images', 'all', '*.jpg'))\n",
    "label_paths = glob.glob(os.path.join(DATASET_PATH_NEW, 'labels', 'all', '*.txt'))\n",
    "\n",
    "image_paths = list(sorted(image_paths))\n",
    "label_paths = list(sorted(label_paths))\n",
    "\n",
    "train_image_paths, test_image_paths, train_label_paths, test_label_paths = train_test_split(image_paths, label_paths, test_size=0.3)\n",
    "test_image_paths, valid_image_paths, test_label_paths, valid_label_paths = train_test_split(test_image_paths, test_label_paths, test_size=0.5)\n",
    "\n",
    "print(len(train_image_paths), len(train_label_paths))\n",
    "print(len(test_image_paths), len(test_label_paths))\n",
    "print(len(valid_image_paths), len(valid_label_paths))\n",
    "\n",
    "os.makedirs(os.path.join(DATASET_PATH_NEW, 'images', 'train'), exist_ok=True)\n",
    "os.makedirs(os.path.join(DATASET_PATH_NEW, 'labels', 'train'), exist_ok=True)\n",
    "\n",
    "os.makedirs(os.path.join(DATASET_PATH_NEW, 'images', 'test'), exist_ok=True)\n",
    "os.makedirs(os.path.join(DATASET_PATH_NEW, 'labels', 'test'), exist_ok=True)\n",
    "\n",
    "os.makedirs(os.path.join(DATASET_PATH_NEW, 'images', 'valid'), exist_ok=True)\n",
    "os.makedirs(os.path.join(DATASET_PATH_NEW, 'labels', 'valid'), exist_ok=True)\n",
    "\n",
    "for image_path, label_path in zip(train_image_paths, train_label_paths):\n",
    "    image_file_name = image_path.split(os.sep)[-1]\n",
    "    label_file_name = label_path.split(os.sep)[-1]\n",
    "    \n",
    "    shutil.copy(image_path, os.path.join(DATASET_PATH_NEW, 'images', 'train', image_file_name))\n",
    "    shutil.copy(label_path, os.path.join(DATASET_PATH_NEW, 'labels', 'train', label_file_name))\n",
    "    \n",
    "for image_path, label_path in zip(test_image_paths, test_label_paths):\n",
    "    image_file_name = image_path.split(os.sep)[-1]\n",
    "    label_file_name = label_path.split(os.sep)[-1]\n",
    "    \n",
    "    shutil.copy(image_path, os.path.join(DATASET_PATH_NEW, 'images', 'test', image_file_name))\n",
    "    shutil.copy(label_path, os.path.join(DATASET_PATH_NEW, 'labels', 'test', label_file_name))\n",
    "    \n",
    "for image_path, label_path in zip(valid_image_paths, valid_label_paths):\n",
    "    image_file_name = image_path.split(os.sep)[-1]\n",
    "    label_file_name = label_path.split(os.sep)[-1]\n",
    "    \n",
    "    shutil.copy(image_path, os.path.join(DATASET_PATH_NEW, 'images', 'valid', image_file_name))\n",
    "    shutil.copy(label_path, os.path.join(DATASET_PATH_NEW, 'labels', 'valid', label_file_name))"
   ]
  }
 ],
 "metadata": {
  "kernelspec": {
   "display_name": "Python 3.9.13 ('base': conda)",
   "language": "python",
   "name": "python3"
  },
  "language_info": {
   "codemirror_mode": {
    "name": "ipython",
    "version": 3
   },
   "file_extension": ".py",
   "mimetype": "text/x-python",
   "name": "python",
   "nbconvert_exporter": "python",
   "pygments_lexer": "ipython3",
   "version": "3.9.13"
  },
  "orig_nbformat": 4,
  "vscode": {
   "interpreter": {
    "hash": "caf1c2fcf97217de91eafa76b907d50f9ea378f5ffbee7f571142d119bb6a771"
   }
  }
 },
 "nbformat": 4,
 "nbformat_minor": 2
}

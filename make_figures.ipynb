{
 "cells": [
  {
   "cell_type": "code",
   "execution_count": 47,
   "metadata": {},
   "outputs": [],
   "source": [
    "import matplotlib.pyplot as plt\n",
    "import os\n",
    "import numpy as np\n",
    "import glob\n",
    "import pandas as pd"
   ]
  },
  {
   "cell_type": "code",
   "execution_count": 1,
   "metadata": {},
   "outputs": [],
   "source": [
    "DATASET_PATH = 'data_process/dsb_data_with/'"
   ]
  },
  {
   "cell_type": "code",
   "execution_count": 57,
   "metadata": {},
   "outputs": [],
   "source": [
    "label_paths = []\n",
    "\n",
    "for path in ['train', 'test', 'valid']:\n",
    "    label_paths += glob.glob(os.path.join(DATASET_PATH, 'labels', path, '*.txt'))\n",
    "\n",
    "label_paths = list(sorted(label_paths))\n",
    "\n",
    "classes = open(os.path.join(DATASET_PATH, 'classes.txt'), 'r').read().splitlines()"
   ]
  },
  {
   "cell_type": "code",
   "execution_count": 58,
   "metadata": {},
   "outputs": [
    {
     "name": "stdout",
     "output_type": "stream",
     "text": [
      "Received folder path: data_process/dsb_data_without/\n",
      "Number of labels: 2110\n",
      "Classes: ['1_AND_2', '1_AND_4', '1_AND_3', '2_AND_4', 'OTHER']\n"
     ]
    }
   ],
   "source": [
    "print('Received folder path:',DATASET_PATH)\n",
    "print('Number of labels:', len(label_paths))\n",
    "print('Classes:', classes)"
   ]
  },
  {
   "cell_type": "code",
   "execution_count": 59,
   "metadata": {},
   "outputs": [
    {
     "data": {
      "text/html": [
       "<div>\n",
       "<style scoped>\n",
       "    .dataframe tbody tr th:only-of-type {\n",
       "        vertical-align: middle;\n",
       "    }\n",
       "\n",
       "    .dataframe tbody tr th {\n",
       "        vertical-align: top;\n",
       "    }\n",
       "\n",
       "    .dataframe thead th {\n",
       "        text-align: right;\n",
       "    }\n",
       "</style>\n",
       "<table border=\"1\" class=\"dataframe\">\n",
       "  <thead>\n",
       "    <tr style=\"text-align: right;\">\n",
       "      <th></th>\n",
       "      <th>type</th>\n",
       "      <th>x</th>\n",
       "      <th>y</th>\n",
       "      <th>w</th>\n",
       "      <th>h</th>\n",
       "    </tr>\n",
       "  </thead>\n",
       "  <tbody>\n",
       "    <tr>\n",
       "      <th>0</th>\n",
       "      <td>1_AND_2</td>\n",
       "      <td>0.465885</td>\n",
       "      <td>0.519444</td>\n",
       "      <td>0.011198</td>\n",
       "      <td>0.022222</td>\n",
       "    </tr>\n",
       "    <tr>\n",
       "      <th>1</th>\n",
       "      <td>1_AND_2</td>\n",
       "      <td>0.465862</td>\n",
       "      <td>0.520118</td>\n",
       "      <td>0.011458</td>\n",
       "      <td>0.022407</td>\n",
       "    </tr>\n",
       "    <tr>\n",
       "      <th>2</th>\n",
       "      <td>1_AND_2</td>\n",
       "      <td>0.465388</td>\n",
       "      <td>0.520623</td>\n",
       "      <td>0.011458</td>\n",
       "      <td>0.022407</td>\n",
       "    </tr>\n",
       "    <tr>\n",
       "      <th>3</th>\n",
       "      <td>1_AND_2</td>\n",
       "      <td>0.454390</td>\n",
       "      <td>0.534788</td>\n",
       "      <td>0.011458</td>\n",
       "      <td>0.022989</td>\n",
       "    </tr>\n",
       "    <tr>\n",
       "      <th>4</th>\n",
       "      <td>1_AND_2</td>\n",
       "      <td>0.453497</td>\n",
       "      <td>0.536376</td>\n",
       "      <td>0.011458</td>\n",
       "      <td>0.024735</td>\n",
       "    </tr>\n",
       "  </tbody>\n",
       "</table>\n",
       "</div>"
      ],
      "text/plain": [
       "      type         x         y         w         h\n",
       "0  1_AND_2  0.465885  0.519444  0.011198  0.022222\n",
       "1  1_AND_2  0.465862  0.520118  0.011458  0.022407\n",
       "2  1_AND_2  0.465388  0.520623  0.011458  0.022407\n",
       "3  1_AND_2  0.454390  0.534788  0.011458  0.022989\n",
       "4  1_AND_2  0.453497  0.536376  0.011458  0.024735"
      ]
     },
     "execution_count": 59,
     "metadata": {},
     "output_type": "execute_result"
    }
   ],
   "source": [
    "labels = []\n",
    "\n",
    "for label_path in label_paths:\n",
    "    lines = open(label_path, 'r').read().splitlines()\n",
    "    \n",
    "    for line in lines:\n",
    "        type, x, y, w, h = line.split(' ')\n",
    "        x, y, w, h = float(x), float(y), float(w), float(h)\n",
    "        \n",
    "        type = classes[int(type)]\n",
    "        labels.append([type, x, y, w, h])\n",
    "        \n",
    "labels = pd.DataFrame(labels, columns=['type', 'x', 'y', 'w', 'h'])\n",
    "labels.head()"
   ]
  },
  {
   "cell_type": "code",
   "execution_count": 60,
   "metadata": {},
   "outputs": [
    {
     "data": {
      "text/html": [
       "<div>\n",
       "<style scoped>\n",
       "    .dataframe tbody tr th:only-of-type {\n",
       "        vertical-align: middle;\n",
       "    }\n",
       "\n",
       "    .dataframe tbody tr th {\n",
       "        vertical-align: top;\n",
       "    }\n",
       "\n",
       "    .dataframe thead th {\n",
       "        text-align: right;\n",
       "    }\n",
       "</style>\n",
       "<table border=\"1\" class=\"dataframe\">\n",
       "  <thead>\n",
       "    <tr style=\"text-align: right;\">\n",
       "      <th></th>\n",
       "      <th>x</th>\n",
       "      <th>y</th>\n",
       "      <th>w</th>\n",
       "      <th>h</th>\n",
       "    </tr>\n",
       "  </thead>\n",
       "  <tbody>\n",
       "    <tr>\n",
       "      <th>count</th>\n",
       "      <td>3410.000000</td>\n",
       "      <td>3410.000000</td>\n",
       "      <td>3410.000000</td>\n",
       "      <td>3410.000000</td>\n",
       "    </tr>\n",
       "    <tr>\n",
       "      <th>mean</th>\n",
       "      <td>0.496276</td>\n",
       "      <td>0.491072</td>\n",
       "      <td>0.025245</td>\n",
       "      <td>0.056196</td>\n",
       "    </tr>\n",
       "    <tr>\n",
       "      <th>std</th>\n",
       "      <td>0.186668</td>\n",
       "      <td>0.152256</td>\n",
       "      <td>0.015082</td>\n",
       "      <td>0.035101</td>\n",
       "    </tr>\n",
       "    <tr>\n",
       "      <th>min</th>\n",
       "      <td>0.016146</td>\n",
       "      <td>0.065319</td>\n",
       "      <td>0.006250</td>\n",
       "      <td>0.011111</td>\n",
       "    </tr>\n",
       "    <tr>\n",
       "      <th>25%</th>\n",
       "      <td>0.384154</td>\n",
       "      <td>0.387533</td>\n",
       "      <td>0.014844</td>\n",
       "      <td>0.031481</td>\n",
       "    </tr>\n",
       "    <tr>\n",
       "      <th>50%</th>\n",
       "      <td>0.479687</td>\n",
       "      <td>0.527168</td>\n",
       "      <td>0.021012</td>\n",
       "      <td>0.045833</td>\n",
       "    </tr>\n",
       "    <tr>\n",
       "      <th>75%</th>\n",
       "      <td>0.604883</td>\n",
       "      <td>0.592614</td>\n",
       "      <td>0.030469</td>\n",
       "      <td>0.068981</td>\n",
       "    </tr>\n",
       "    <tr>\n",
       "      <th>max</th>\n",
       "      <td>0.992448</td>\n",
       "      <td>0.976389</td>\n",
       "      <td>0.122591</td>\n",
       "      <td>0.267141</td>\n",
       "    </tr>\n",
       "  </tbody>\n",
       "</table>\n",
       "</div>"
      ],
      "text/plain": [
       "                 x            y            w            h\n",
       "count  3410.000000  3410.000000  3410.000000  3410.000000\n",
       "mean      0.496276     0.491072     0.025245     0.056196\n",
       "std       0.186668     0.152256     0.015082     0.035101\n",
       "min       0.016146     0.065319     0.006250     0.011111\n",
       "25%       0.384154     0.387533     0.014844     0.031481\n",
       "50%       0.479687     0.527168     0.021012     0.045833\n",
       "75%       0.604883     0.592614     0.030469     0.068981\n",
       "max       0.992448     0.976389     0.122591     0.267141"
      ]
     },
     "execution_count": 60,
     "metadata": {},
     "output_type": "execute_result"
    }
   ],
   "source": [
    "labels.describe()"
   ]
  },
  {
   "cell_type": "code",
   "execution_count": 61,
   "metadata": {},
   "outputs": [
    {
     "data": {
      "text/plain": [
       "<AxesSubplot:xlabel='type'>"
      ]
     },
     "execution_count": 61,
     "metadata": {},
     "output_type": "execute_result"
    },
    {
     "data": {
      "image/png": "[encoded data removed]",
      "text/plain": [
       "<Figure size 640x480 with 1 Axes>"
      ]
     },
     "metadata": {},
     "output_type": "display_data"
    }
   ],
   "source": [
    "labels.groupby('type')['type'].describe()['count'].plot.bar()"
   ]
  }
 ],
 "metadata": {
  "kernelspec": {
   "display_name": "Python 3.9.13 ('machine-learning')",
   "language": "python",
   "name": "python3"
  },
  "language_info": {
   "codemirror_mode": {
    "name": "ipython",
    "version": 3
   },
   "file_extension": ".py",
   "mimetype": "text/x-python",
   "name": "python",
   "nbconvert_exporter": "python",
   "pygments_lexer": "ipython3",
   "version": "3.9.13"
  },
  "orig_nbformat": 4,
  "vscode": {
   "interpreter": {
    "hash": "cd9e4fcb2220c3e20a32e629766165bb66c6b69635fb3a79566f0e2602efa810"
   }
  }
 },
 "nbformat": 4,
 "nbformat_minor": 2
}
